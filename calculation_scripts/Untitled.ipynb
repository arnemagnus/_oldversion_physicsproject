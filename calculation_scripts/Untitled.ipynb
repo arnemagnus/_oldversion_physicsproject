{
 "cells": [
  {
   "cell_type": "code",
   "execution_count": 11,
   "metadata": {},
   "outputs": [
    {
     "name": "stdout",
     "output_type": "stream",
     "text": [
      "/home/arne/Documents/physicsproject/calculation_scripts\n"
     ]
    }
   ],
   "source": [
    "import numpy as np\n",
    "from numerical_integrators.adaptive_step import rkf45\n",
    "import os\n",
    "cwd = os.getcwd()\n",
    "print(cwd)"
   ]
  },
  {
   "cell_type": "code",
   "execution_count": 2,
   "metadata": {
    "collapsed": true
   },
   "outputs": [],
   "source": [
    "def deriv(t, x):\n",
    "    return (1/((1+t**2)))"
   ]
  },
  {
   "cell_type": "code",
   "execution_count": 30,
   "metadata": {
    "collapsed": true
   },
   "outputs": [],
   "source": [
    "x0 = np.array([0])\n",
    "t0 = np.array([0])\n",
    "\n",
    "def trajectory(t0, tmax, pos_init, deriv, integrator):\n",
    "    T = [t0]\n",
    "    X = [pos_init]\n",
    "    \n",
    "    h = np.array([1e-1])\n",
    "    \n",
    "    t = t0\n",
    "    t_ = t\n",
    "    x = pos_init\n",
    "    while t < tmax:\n",
    "        h = np.minimum(h, tmax - t)\n",
    "        t, x, h = integrator(t, x, h, deriv)\n",
    "        if t > t_:\n",
    "            T.append(t)\n",
    "            X.append(x)\n",
    "        t_ = t\n",
    "    return np.asarray(T), np.asarray(X)"
   ]
  },
  {
   "cell_type": "code",
   "execution_count": 38,
   "metadata": {},
   "outputs": [
    {
     "name": "stdout",
     "output_type": "stream",
     "text": [
      "   This function attempts a single time step forwards, using the\n",
      "    Runge-Kutta-Fehlberg 4(5) adaptive timestep integrator scheme. If\n",
      "    the new step is not accepted, the time level and the coordinates\n",
      "    are not updated, while the time increment is refined.\n",
      "\n",
      "    The Runge-Kutta-Fehlberg 4(5) method calculates two independent\n",
      "    approximations to a step forwards in time for an ODE system, of\n",
      "    fifth and fourth order, respectively. The scheme is tuned such\n",
      "    that the error of the fourth order solution is minimal.\n",
      "\n",
      "    The fifth order solution (interpolant) is used in order to find\n",
      "    a criterion for rejecting / accepting the trial step:\n",
      "        - If the difference between the two solutions is larger than\n",
      "          some threshold, the solution is rejected, and the time\n",
      "          increment refined\n",
      "        - If the difference between the solutions is smaller than or\n",
      "          equal to some threshold, the fourth order solution is\n",
      "          accepted, and the solver attempts to increase the time\n",
      "          increment\n",
      "\n",
      "    Input:\n",
      "        t:        Current time level, as a NumPy array\n",
      "        x:        Current coordinates, as a NumPy array\n",
      "        h:        Current time increment, as a NumPy array\n",
      "        f:        Function handle for the derivatives (the RHS of the ODE\n",
      "                      system), function signature: f = f(t, x)\n",
      "        atol:     Absolute tolerance level (OPTIONAL)\n",
      "        rtol:     Relative toleranve level (OPTIONAL)\n",
      "        **kwargs: Keyword arguments for the derivatives (optional)\n",
      "\n",
      "    Output:\n",
      "        _t:       NumPy array containing\n",
      "                      a) New time level (if the trial step is accepted)\n",
      "                      b) Current time level (unaltered, if the trial step is\n",
      "                          rejected)\n",
      "        _x:       NumPy array containing\n",
      "                      a) Runge-Kutta-Fehlberg 4(5) approximation of the\n",
      "                          coordinates at the new time level (if the trial step\n",
      "                          is accepted)\n",
      "                      b) Current coordinates (unaltered, if the trial step is\n",
      "                          rejected)\n",
      "        _h:       NumPy array containing the updated time increment.\n",
      "                      Generally increased or decreased,\n",
      "                      depending on whether the trial step is accepted or\n",
      "                      rejected\n",
      "    \n"
     ]
    }
   ],
   "source": [
    "tmax = 1000\n",
    "\n",
    "integrator = rkf45\n",
    "\n",
    "print(integrator.__doc__)\n",
    "\n",
    "T, X = trajectory(t0, tmax, x0, deriv, integrator)"
   ]
  },
  {
   "cell_type": "code",
   "execution_count": 39,
   "metadata": {},
   "outputs": [
    {
     "data": {
      "text/plain": [
       "[<matplotlib.lines.Line2D at 0x7f9e67e089b0>]"
      ]
     },
     "execution_count": 39,
     "metadata": {},
     "output_type": "execute_result"
    },
    {
     "data": {
      "image/png": "[encoded data removed]",
      "text/plain": [
       "<matplotlib.figure.Figure at 0x7f9e67e86d68>"
      ]
     },
     "metadata": {},
     "output_type": "display_data"
    }
   ],
   "source": [
    "import matplotlib.pyplot as plt\n",
    "%matplotlib inline\n",
    "plt.figure()\n",
    "plt.plot(T, X, 'o')\n"
   ]
  },
  {
   "cell_type": "code",
   "execution_count": 40,
   "metadata": {},
   "outputs": [
    {
     "data": {
      "text/plain": [
       "array([[ 0.        ],\n",
       "       [ 0.09966865],\n",
       "       [ 0.29145685],\n",
       "       [ 0.53136942],\n",
       "       [ 0.74937395],\n",
       "       [ 0.97592286],\n",
       "       [ 1.12386502],\n",
       "       [ 1.22886323],\n",
       "       [ 1.30828953],\n",
       "       [ 1.37015287],\n",
       "       [ 1.41881505],\n",
       "       [ 1.45707422],\n",
       "       [ 1.48695628],\n",
       "       [ 1.51004579],\n",
       "       [ 1.52763836],\n",
       "       [ 1.54081732],\n",
       "       [ 1.55049575],\n",
       "       [ 1.5584638 ],\n",
       "       [ 1.5631535 ],\n",
       "       [ 1.56645836],\n",
       "       [ 1.56847409],\n",
       "       [ 1.56959704],\n",
       "       [ 1.56980706]])"
      ]
     },
     "execution_count": 40,
     "metadata": {},
     "output_type": "execute_result"
    }
   ],
   "source": [
    "X"
   ]
  },
  {
   "cell_type": "code",
   "execution_count": 41,
   "metadata": {},
   "outputs": [
    {
     "data": {
      "text/plain": [
       "0.7853981633974483"
      ]
     },
     "execution_count": 41,
     "metadata": {},
     "output_type": "execute_result"
    }
   ],
   "source": [
    "np.pi/4"
   ]
  },
  {
   "cell_type": "code",
   "execution_count": 42,
   "metadata": {},
   "outputs": [
    {
     "data": {
      "text/plain": [
       "array([ 0.7844089])"
      ]
     },
     "execution_count": 42,
     "metadata": {},
     "output_type": "execute_result"
    }
   ],
   "source": [
    "X[-1] - np.pi/4"
   ]
  },
  {
   "cell_type": "code",
   "execution_count": null,
   "metadata": {
    "collapsed": true
   },
   "outputs": [],
   "source": []
  }
 ],
 "metadata": {
  "kernelspec": {
   "display_name": "Python 3",
   "language": "python",
   "name": "python3"
  },
  "language_info": {
   "codemirror_mode": {
    "name": "ipython",
    "version": 3
   },
   "file_extension": ".py",
   "mimetype": "text/x-python",
   "name": "python",
   "nbconvert_exporter": "python",
   "pygments_lexer": "ipython3",
   "version": "3.6.2"
  }
 },
 "nbformat": 4,
 "nbformat_minor": 2
}
