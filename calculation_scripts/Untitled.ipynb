{
 "cells": [
  {
   "cell_type": "code",
   "execution_count": 1,
   "metadata": {},
   "outputs": [
    {
     "name": "stdout",
     "output_type": "stream",
     "text": [
      "/home/arne/Documents/physicsproject/calculation_scripts\n"
     ]
    }
   ],
   "source": [
    "import numpy as np\n",
    "from numerical_integrators.adaptive_step import rkf78\n",
    "import os\n",
    "cwd = os.getcwd()\n",
    "print(cwd)"
   ]
  },
  {
   "cell_type": "code",
   "execution_count": 2,
   "metadata": {
    "collapsed": true
   },
   "outputs": [],
   "source": [
    "def deriv(t, x):\n",
    "    return (1/((1+t**2)))"
   ]
  },
  {
   "cell_type": "code",
   "execution_count": 3,
   "metadata": {
    "collapsed": true
   },
   "outputs": [],
   "source": [
    "x0 = np.array([0])\n",
    "t0 = np.array([0])\n",
    "\n",
    "def trajectory(t0, tmax, pos_init, deriv, integrator):\n",
    "    T = [t0]\n",
    "    X = [pos_init]\n",
    "    \n",
    "    h = np.array([1e-1])\n",
    "    \n",
    "    t = t0\n",
    "    t_ = t\n",
    "    x = pos_init\n",
    "    while t < tmax:\n",
    "        t, x, h = integrator(t, x, h, deriv)\n",
    "        if t > t_:\n",
    "            T.append(t)\n",
    "            X.append(x)\n",
    "        t_ = t\n",
    "        h = np.minimum(h, tmax - h)\n",
    "    return T, X"
   ]
  },
  {
   "cell_type": "code",
   "execution_count": 4,
   "metadata": {},
   "outputs": [
    {
     "name": "stdout",
     "output_type": "stream",
     "text": [
      "   This function attempts a single time step forwards, using the\n",
      "    Runge-Kutta-Fehlberg 7(8) adaptive timestep integrator scheme. If\n",
      "    the new step is not accepted, the time level and the coordinates\n",
      "    are not updated, while the time increment is refined.\n",
      "\n",
      "    The Runge-Kutta-Fehlberg 7(8) method calculates two independent\n",
      "    approximations to a step forwards in time for an ODE system, of\n",
      "    eighth and seventh order, respectively. The scheme is tuned such\n",
      "    that the error of the seventh order solution is minimal.\n",
      "\n",
      "    The eigth order solution (interpolant) is used in order to find\n",
      "    a criterion for rejecting / accepting the trial step:\n",
      "        - If the difference between the two solutions is larger than\n",
      "          some threshold, the solution is rejected, and the time\n",
      "          increment refined\n",
      "        - If the difference between the solutions is smaller than or\n",
      "          equal to some threshold, the seventh order solution is\n",
      "          accepted, and the solver attempts to increase the time\n",
      "          increment\n",
      "\n",
      "    Input:\n",
      "        t:        Current time level, as a NumPy array\n",
      "        x:        Current coordinates, as a NumPy array\n",
      "        h:        Current time increment, as a NumPy array\n",
      "        f:        Function handle for the derivatives (the RHS of the ODE\n",
      "                      system), function signature: f = f(t, x)\n",
      "        atol:     Absolute tolerance level (OPTIONAL)\n",
      "        rtol:     Relative toleranve level (OPTIONAL)\n",
      "        **kwargs: Keyword arguments for the derivatives (optional)\n",
      "\n",
      "    Output:\n",
      "        _t:       NumPy array containing\n",
      "                      a) New time level (if the trial step is accepted)\n",
      "                      b) Current time level (unaltered, if the trial step is\n",
      "                          rejected)\n",
      "        _x:       NumPy array containing\n",
      "                      a) Runge-Kutta-Fehlberg 7(8) approximation of the\n",
      "                          coordinates at the new time level (if the trial step\n",
      "                          is accepted)\n",
      "                      b) Current coordinates (unaltered, if the trial step is\n",
      "                          rejected)\n",
      "        _h:       NumPy array containing the updated time increment.\n",
      "                      Generally increased or decreased,\n",
      "                      depending on whether the trial step is accepted or\n",
      "                      rejected\n",
      "    \n"
     ]
    }
   ],
   "source": [
    "tmax = 1000\n",
    "\n",
    "integrator = rkf78\n",
    "\n",
    "print(integrator.__doc__)\n",
    "\n",
    "T, X = trajectory(t0, tmax, x0, deriv, integrator)"
   ]
  },
  {
   "cell_type": "code",
   "execution_count": 5,
   "metadata": {},
   "outputs": [
    {
     "data": {
      "text/plain": [
       "[<matplotlib.lines.Line2D at 0x7f9cbdec64e0>]"
      ]
     },
     "execution_count": 5,
     "metadata": {},
     "output_type": "execute_result"
    },
    {
     "data": {
      "image/png": "[encoded data removed]",
      "text/plain": [
       "<matplotlib.figure.Figure at 0x7f9cc8d36278>"
      ]
     },
     "metadata": {},
     "output_type": "display_data"
    }
   ],
   "source": [
    "import matplotlib.pyplot as plt\n",
    "%matplotlib inline\n",
    "plt.figure()\n",
    "plt.plot(T, X, 'o')\n"
   ]
  },
  {
   "cell_type": "code",
   "execution_count": 6,
   "metadata": {},
   "outputs": [
    {
     "data": {
      "text/plain": [
       "array([ 1.51506809])"
      ]
     },
     "execution_count": 6,
     "metadata": {},
     "output_type": "execute_result"
    }
   ],
   "source": [
    "X[-1]"
   ]
  },
  {
   "cell_type": "code",
   "execution_count": 7,
   "metadata": {},
   "outputs": [
    {
     "data": {
      "text/plain": [
       "1.5707963267948966"
      ]
     },
     "execution_count": 7,
     "metadata": {},
     "output_type": "execute_result"
    }
   ],
   "source": [
    "np.pi/2"
   ]
  },
  {
   "cell_type": "code",
   "execution_count": null,
   "metadata": {
    "collapsed": true
   },
   "outputs": [],
   "source": []
  }
 ],
 "metadata": {
  "kernelspec": {
   "display_name": "Python 3",
   "language": "python",
   "name": "python3"
  },
  "language_info": {
   "codemirror_mode": {
    "name": "ipython",
    "version": 3
   },
   "file_extension": ".py",
   "mimetype": "text/x-python",
   "name": "python",
   "nbconvert_exporter": "python",
   "pygments_lexer": "ipython3",
   "version": "3.6.2"
  }
 },
 "nbformat": 4,
 "nbformat_minor": 2
}
