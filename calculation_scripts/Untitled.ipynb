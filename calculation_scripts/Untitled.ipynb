{
 "cells": [
  {
   "cell_type": "code",
   "execution_count": 1,
   "metadata": {},
   "outputs": [
    {
     "name": "stdout",
     "output_type": "stream",
     "text": [
      "This module contains a selection of adaptive timestep integrators\n",
      "intended for general-purpose use. All integrators have the same\n",
      "function signature, as in, they take the same input parameters and\n",
      "return the same output variables in the same order, with the\n",
      "difference being the underlying integration scheme.\n",
      "\n",
      "The module contains the following adaptive step size integrators:\n",
      "   rkbs32: Bogacki-Shampine 3(2)\n",
      "   rkbs54: Bogacki-Shampine 5(4)\n",
      "   rkck45: Cash-Karp 4(5)\n",
      "   rkdp54: Dormand-Prince 5(4)\n",
      "   rkdp87: Dormand-Prince 8(7)\n",
      "   rkf12:  Runge-Kutta-Fehlberg 1(2)\n",
      "   rkf45:  Runge-Kutta-Fehlberg 4(5)\n",
      "   rkhe21: Heun-Euler 2(1)\n",
      "\n",
      "where the digit outside of the parenthesis indicates the method order,\n",
      "and the digit within the parenthesis indicates the order of the\n",
      "interpolant solution (used in adjusting the time step).\n",
      "\n",
      "All functions have the same structure:\n",
      "\n",
      "def scheme(t, x, h, f, atol, rtol):\n",
      "   [...]\n",
      "   return _t, _x, _h\n",
      "\n",
      "where t:    Current time level\n",
      "      x:    Current coordinates, array-like\n",
      "      h:    Current time increment\n",
      "      f:    Function handle for the derivatives (the RHS of the ODE\n",
      "               system), function signature: f = f(t, x)\n",
      "      atol: Absolute tolerance level (OPTIONAL)\n",
      "      rtol: Relative tolerance level (OPTIONAL)\n",
      "\n",
      "      _t:   New time level (if trial step is accepted)\n",
      "            Current time level (unaltered, if the trial step is\n",
      "               rejected)\n",
      "      _x:   Approximation of the coordinates at the new time level\n",
      "               (if trial step is accepted)\n",
      "            Current coordinates (unaltered, if the trial step is\n",
      "               rejected)\n",
      "      _h:   Updated time increment. Generally increased or decreased,\n",
      "               depending on whether the trial step is accepted or not\n",
      "\n"
     ]
    }
   ],
   "source": [
    "import numerical_integrators.adaptive_step as adaptive_step\n",
    "print(adaptive_step.__doc__)"
   ]
  },
  {
   "cell_type": "code",
   "execution_count": 3,
   "metadata": {
    "collapsed": true
   },
   "outputs": [],
   "source": [
    "def deriv(t, x):\n",
    "    return 1/(1+t**2)"
   ]
  },
  {
   "cell_type": "code",
   "execution_count": 4,
   "metadata": {
    "collapsed": true
   },
   "outputs": [],
   "source": [
    "import jallah"
   ]
  },
  {
   "cell_type": "code",
   "execution_count": 5,
   "metadata": {
    "collapsed": true
   },
   "outputs": [],
   "source": [
    "import numpy as np\n",
    "\n",
    "import matplotlib.pyplot as plt\n",
    "\n",
    "def get_trajectory(f, integrator, t_max, h0, x0, t0, **kwargs):\n",
    "    Xs = [x0]\n",
    "    Ts = [t0]\n",
    "    t = t0\n",
    "    x = x0\n",
    "    h = h0\n",
    "    while t < t_max:\n",
    "        # Ensure we don't overstep:\n",
    "        h = np.min([h, t_max - t])\n",
    "        t_, x_, h = integrator(t, x, h, f, **kwargs)\n",
    "        # Check if step was accepted\n",
    "        if t_ > t:\n",
    "            t = t_\n",
    "            x = x_\n",
    "            Xs.append(x)\n",
    "            Ts.append(t)\n",
    "    return Ts ,Xs\n",
    "\n",
    "def get_endpoint(f, integrator, t_max, h0, x0, t0, **kwargs):\n",
    "    t = t0\n",
    "    x = x0\n",
    "    h = h0\n",
    "    while t < t_max:\n",
    "        # Ensure we don't overstep:\n",
    "        h = np.min(h, t_max - t)\n",
    "        t_, x_, h = integrator(t, x, h, f, **kwargs)\n",
    "        # Check if step was accepted\n",
    "        if t_ > t:\n",
    "            t = t_\n",
    "            x = x_\n",
    "    return t, x\n"
   ]
  },
  {
   "cell_type": "code",
   "execution_count": 11,
   "metadata": {},
   "outputs": [
    {
     "name": "stdout",
     "output_type": "stream",
     "text": [
      "0.1\n",
      "0.0996687324593\n",
      "0.1\n"
     ]
    }
   ],
   "source": [
    "t = 0.\n",
    "x = 0.\n",
    "h = 0.1\n",
    "\n",
    "from jallah import single_step\n",
    "\n",
    "t, x, h = single_step.rk4(t, x, h, deriv)\n",
    "print(t)\n",
    "print(x)\n",
    "print(h)"
   ]
  },
  {
   "cell_type": "code",
   "execution_count": 9,
   "metadata": {},
   "outputs": [
    {
     "name": "stdout",
     "output_type": "stream",
     "text": [
      "100 loops, best of 3: 7.14 ms per loop\n"
     ]
    },
    {
     "data": {
      "text/plain": [
       "[<matplotlib.lines.Line2D at 0x7fab3004d400>]"
      ]
     },
     "execution_count": 9,
     "metadata": {},
     "output_type": "execute_result"
    },
    {
     "data": {
      "image/png": "[encoded data removed]",
      "text/plain": [
       "<matplotlib.figure.Figure at 0x7fab3025ee48>"
      ]
     },
     "metadata": {},
     "output_type": "display_data"
    }
   ],
   "source": [
    "from numerical_integrators import *\n",
    "integrator = rkbs54\n",
    "%timeit Ts, Xs = get_trajectory(deriv, integrator, t_max = 30, h0 = 0.1, x0 = 0.0, t0 = 0.0)\n",
    "%matplotlib inline\n",
    "plt.figure()\n",
    "plt.plot(Ts, Xs)"
   ]
  },
  {
   "cell_type": "code",
   "execution_count": 6,
   "metadata": {},
   "outputs": [
    {
     "ename": "SyntaxError",
     "evalue": "Missing parentheses in call to 'print' (<ipython-input-6-22f6910b7337>, line 1)",
     "output_type": "error",
     "traceback": [
      "\u001b[0;36m  File \u001b[0;32m\"<ipython-input-6-22f6910b7337>\"\u001b[0;36m, line \u001b[0;32m1\u001b[0m\n\u001b[0;31m    print jallah.__doc__\u001b[0m\n\u001b[0m               ^\u001b[0m\n\u001b[0;31mSyntaxError\u001b[0m\u001b[0;31m:\u001b[0m Missing parentheses in call to 'print'\n"
     ]
    }
   ],
   "source": [
    "print jallah.__doc__"
   ]
  },
  {
   "cell_type": "code",
   "execution_count": 7,
   "metadata": {},
   "outputs": [
    {
     "name": "stdout",
     "output_type": "stream",
     "text": [
      "This module 'jallah' is auto-generated with f2py (version:2).\n",
      "Functions:\n",
      "Fortran 90/95 modules:\n",
      "  f_numerical_integrators --- rkdp54().\n"
     ]
    }
   ],
   "source": [
    "print(jallah.__doc__)"
   ]
  },
  {
   "cell_type": "code",
   "execution_count": 7,
   "metadata": {},
   "outputs": [
    {
     "name": "stdout",
     "output_type": "stream",
     "text": [
      "t_,x_,h_ = euler(t,x,h,f,[f_extra_args])\n",
      "\n",
      "Wrapper for ``euler``.\n",
      "\n",
      "Parameters\n",
      "----------\n",
      "t : input float\n",
      "x : input float\n",
      "h : input float\n",
      "f : call-back function\n",
      "\n",
      "Other Parameters\n",
      "----------------\n",
      "f_extra_args : input tuple, optional\n",
      "    Default: ()\n",
      "\n",
      "Returns\n",
      "-------\n",
      "t_ : float\n",
      "x_ : float\n",
      "h_ : float\n",
      "\n",
      "Notes\n",
      "-----\n",
      "Call-back functions::\n",
      "\n",
      "  def f(t,x): return k1\n",
      "  Required arguments:\n",
      "    t : input float\n",
      "    x : input float\n",
      "  Return objects:\n",
      "    k1 : float\n",
      "\n"
     ]
    }
   ],
   "source": [
    "print(jallah.f_numerical_integrators.__doc__)"
   ]
  },
  {
   "cell_type": "code",
   "execution_count": 10,
   "metadata": {},
   "outputs": [
    {
     "ename": "KeyboardInterrupt",
     "evalue": "",
     "output_type": "error",
     "traceback": [
      "\u001b[0;31m---------------------------------------------------------------------------\u001b[0m",
      "\u001b[0;31mKeyboardInterrupt\u001b[0m                         Traceback (most recent call last)",
      "\u001b[0;32m<ipython-input-10-7880a75c0cd2>\u001b[0m in \u001b[0;36m<module>\u001b[0;34m()\u001b[0m\n\u001b[0;32m----> 1\u001b[0;31m \u001b[0mTs\u001b[0m\u001b[0;34m,\u001b[0m \u001b[0mXs\u001b[0m \u001b[0;34m=\u001b[0m \u001b[0mget_trajectory\u001b[0m\u001b[0;34m(\u001b[0m\u001b[0mderiv\u001b[0m\u001b[0;34m,\u001b[0m \u001b[0mjallah\u001b[0m\u001b[0;34m.\u001b[0m\u001b[0mf_numerical_integrators\u001b[0m\u001b[0;34m.\u001b[0m\u001b[0mrkdp54\u001b[0m\u001b[0;34m,\u001b[0m \u001b[0mt_max\u001b[0m \u001b[0;34m=\u001b[0m \u001b[0;36m30\u001b[0m\u001b[0;34m,\u001b[0m \u001b[0mh0\u001b[0m \u001b[0;34m=\u001b[0m \u001b[0;36m0.1\u001b[0m\u001b[0;34m,\u001b[0m \u001b[0mx0\u001b[0m \u001b[0;34m=\u001b[0m \u001b[0;36m0.0\u001b[0m\u001b[0;34m,\u001b[0m \u001b[0mt0\u001b[0m \u001b[0;34m=\u001b[0m \u001b[0;36m0.0\u001b[0m\u001b[0;34m)\u001b[0m\u001b[0;34m\u001b[0m\u001b[0m\n\u001b[0m",
      "\u001b[0;32m<ipython-input-3-e5cfc4c96c32>\u001b[0m in \u001b[0;36mget_trajectory\u001b[0;34m(f, integrator, t_max, h0, x0, t0, **kwargs)\u001b[0m\n\u001b[1;32m     12\u001b[0m         \u001b[0;31m# Ensure we don't overstep:\u001b[0m\u001b[0;34m\u001b[0m\u001b[0;34m\u001b[0m\u001b[0m\n\u001b[1;32m     13\u001b[0m         \u001b[0mh\u001b[0m \u001b[0;34m=\u001b[0m \u001b[0mnp\u001b[0m\u001b[0;34m.\u001b[0m\u001b[0mmin\u001b[0m\u001b[0;34m(\u001b[0m\u001b[0;34m[\u001b[0m\u001b[0mh\u001b[0m\u001b[0;34m,\u001b[0m \u001b[0mt_max\u001b[0m \u001b[0;34m-\u001b[0m \u001b[0mt\u001b[0m\u001b[0;34m]\u001b[0m\u001b[0;34m)\u001b[0m\u001b[0;34m\u001b[0m\u001b[0m\n\u001b[0;32m---> 14\u001b[0;31m         \u001b[0mt_\u001b[0m\u001b[0;34m,\u001b[0m \u001b[0mx_\u001b[0m\u001b[0;34m,\u001b[0m \u001b[0mh\u001b[0m \u001b[0;34m=\u001b[0m \u001b[0mintegrator\u001b[0m\u001b[0;34m(\u001b[0m\u001b[0mt\u001b[0m\u001b[0;34m,\u001b[0m \u001b[0mx\u001b[0m\u001b[0;34m,\u001b[0m \u001b[0mh\u001b[0m\u001b[0;34m,\u001b[0m \u001b[0mf\u001b[0m\u001b[0;34m,\u001b[0m \u001b[0;34m**\u001b[0m\u001b[0mkwargs\u001b[0m\u001b[0;34m)\u001b[0m\u001b[0;34m\u001b[0m\u001b[0m\n\u001b[0m\u001b[1;32m     15\u001b[0m         \u001b[0;31m# Check if step was accepted\u001b[0m\u001b[0;34m\u001b[0m\u001b[0;34m\u001b[0m\u001b[0m\n\u001b[1;32m     16\u001b[0m         \u001b[0;32mif\u001b[0m \u001b[0mt_\u001b[0m \u001b[0;34m>\u001b[0m \u001b[0mt\u001b[0m\u001b[0;34m:\u001b[0m\u001b[0;34m\u001b[0m\u001b[0m\n",
      "\u001b[0;32m<ipython-input-4-ae112a29a778>\u001b[0m in \u001b[0;36mderiv\u001b[0;34m(t, x)\u001b[0m\n\u001b[0;32m----> 1\u001b[0;31m \u001b[0;32mdef\u001b[0m \u001b[0mderiv\u001b[0m\u001b[0;34m(\u001b[0m\u001b[0mt\u001b[0m\u001b[0;34m,\u001b[0m \u001b[0mx\u001b[0m\u001b[0;34m)\u001b[0m\u001b[0;34m:\u001b[0m\u001b[0;34m\u001b[0m\u001b[0m\n\u001b[0m\u001b[1;32m      2\u001b[0m     \u001b[0;32mreturn\u001b[0m \u001b[0;36m1\u001b[0m\u001b[0;34m/\u001b[0m\u001b[0;34m(\u001b[0m\u001b[0;36m1\u001b[0m\u001b[0;34m+\u001b[0m\u001b[0mt\u001b[0m\u001b[0;34m**\u001b[0m\u001b[0;36m2\u001b[0m\u001b[0;34m)\u001b[0m\u001b[0;34m\u001b[0m\u001b[0m\n",
      "\u001b[0;31mKeyboardInterrupt\u001b[0m: "
     ]
    }
   ],
   "source": [
    "Ts, Xs = get_trajectory(deriv, jallah.f_numerical_integrators.rkdp54, t_max = 30, h0 = 0.1, x0 = 0.0, t0 = 0.0)"
   ]
  },
  {
   "cell_type": "code",
   "execution_count": 5,
   "metadata": {
    "collapsed": true
   },
   "outputs": [],
   "source": [
    "%matplotlib inline"
   ]
  },
  {
   "cell_type": "code",
   "execution_count": 6,
   "metadata": {},
   "outputs": [
    {
     "data": {
      "text/plain": [
       "[<matplotlib.lines.Line2D at 0x7facd073d668>]"
      ]
     },
     "execution_count": 6,
     "metadata": {},
     "output_type": "execute_result"
    },
    {
     "data": {
      "image/png": "[encoded data removed]",
      "text/plain": [
       "<matplotlib.figure.Figure at 0x7facf4b66400>"
      ]
     },
     "metadata": {},
     "output_type": "display_data"
    }
   ],
   "source": [
    "plt.plot(Ts, Xs)"
   ]
  },
  {
   "cell_type": "code",
   "execution_count": 11,
   "metadata": {
    "collapsed": true
   },
   "outputs": [],
   "source": [
    "from numerical_integrators import rkdp54"
   ]
  },
  {
   "cell_type": "code",
   "execution_count": 12,
   "metadata": {},
   "outputs": [
    {
     "data": {
      "text/plain": [
       "[<matplotlib.lines.Line2D at 0x7f1e24f39860>]"
      ]
     },
     "execution_count": 12,
     "metadata": {},
     "output_type": "execute_result"
    },
    {
     "data": {
      "image/png": "[encoded data removed]",
      "text/plain": [
       "<matplotlib.figure.Figure at 0x7f1e2502dda0>"
      ]
     },
     "metadata": {},
     "output_type": "display_data"
    }
   ],
   "source": [
    "Ts, Xs = get_trajectory(deriv, rkdp54, t_max = 30, h0 = 0.1, x0 = 0.0, t0 = 0.0)\n",
    "plt.plot(Ts, Xs)"
   ]
  },
  {
   "cell_type": "code",
   "execution_count": 11,
   "metadata": {
    "scrolled": true
   },
   "outputs": [
    {
     "name": "stdout",
     "output_type": "stream",
     "text": [
      "0.011005401611328125\n"
     ]
    },
    {
     "data": {
      "text/plain": [
       "[<matplotlib.lines.Line2D at 0x7facd0633978>]"
      ]
     },
     "execution_count": 11,
     "metadata": {},
     "output_type": "execute_result"
    },
    {
     "data": {
      "image/png": "[encoded data removed]",
      "text/plain": [
       "<matplotlib.figure.Figure at 0x7facd074d9e8>"
      ]
     },
     "metadata": {},
     "output_type": "display_data"
    }
   ],
   "source": [
    "start = time.time()\n",
    "Ts, Xs = get_trajectory(deriv, jallah.f_numerical_integrators.euler, t_max = 30, h0 = 0.1, x0 = 0.0, t0 = 0.0)\n",
    "end = time.time()\n",
    "print(end-start)\n",
    "plt.plot(Ts, Xs)"
   ]
  },
  {
   "cell_type": "code",
   "execution_count": 11,
   "metadata": {
    "collapsed": true
   },
   "outputs": [],
   "source": [
    "import numerical_integrators"
   ]
  },
  {
   "cell_type": "code",
   "execution_count": 9,
   "metadata": {
    "collapsed": true
   },
   "outputs": [],
   "source": [
    "import time"
   ]
  },
  {
   "cell_type": "code",
   "execution_count": 10,
   "metadata": {},
   "outputs": [
    {
     "name": "stdout",
     "output_type": "stream",
     "text": [
      "0.008268356323242188\n"
     ]
    }
   ],
   "source": [
    "start = time.time()\n",
    "Ts, Xs = get_trajectory(deriv, numerical_integrators.euler, t_max = 30, h0 = 0.1, x0 = 0.0, t0 = 0.0)\n",
    "end = time.time()\n",
    "print(end-start)"
   ]
  },
  {
   "cell_type": "code",
   "execution_count": 40,
   "metadata": {},
   "outputs": [
    {
     "name": "stdout",
     "output_type": "stream",
     "text": [
      "10 loops, best of 3: 33.1 ms per loop\n",
      "0.6399110000000015\n",
      "1.03616926975e-06\n"
     ]
    }
   ],
   "source": [
    "start = time.clock()\n",
    "% timeit Ts, Xs = get_trajectory(deriv, single_step.rk2, t_max = 30, h0 = 0.1, x0 = 0.0, t0 = 0.0)\n",
    "end = time.clock()\n",
    "print(end-start)\n",
    "err = sum(abs(Xs - np.arctan(Ts)))\n",
    "print(err)"
   ]
  },
  {
   "cell_type": "code",
   "execution_count": 41,
   "metadata": {},
   "outputs": [
    {
     "name": "stdout",
     "output_type": "stream",
     "text": [
      "10 loops, best of 3: 29.4 ms per loop\n",
      "0.6464619999999996\n",
      "1.03616926975e-06\n"
     ]
    }
   ],
   "source": [
    "start = time.clock()\n",
    "% timeit Ts, Xs = get_trajectory(deriv, numerical_integrators.rk2, t_max = 30, h0 = 0.1, x0 = 0.0, t0 = 0.0)\n",
    "end = time.clock()\n",
    "print(end-start)\n",
    "err = sum(abs(Xs - np.arctan(Ts)))\n",
    "print(err)"
   ]
  },
  {
   "cell_type": "code",
   "execution_count": 10,
   "metadata": {},
   "outputs": [
    {
     "data": {
      "text/plain": [
       "[<matplotlib.lines.Line2D at 0x7fad0f318a20>]"
      ]
     },
     "execution_count": 10,
     "metadata": {},
     "output_type": "execute_result"
    },
    {
     "data": {
      "image/png": "[encoded data removed]",
      "text/plain": [
       "<matplotlib.figure.Figure at 0x7fad18734d30>"
      ]
     },
     "metadata": {},
     "output_type": "display_data"
    }
   ],
   "source": [
    "%matplotlib inline\n",
    "plt.figure()\n",
    "plt.plot(Ts, Xs)"
   ]
  },
  {
   "cell_type": "code",
   "execution_count": null,
   "metadata": {
    "collapsed": true
   },
   "outputs": [],
   "source": [
    "U"
   ]
  }
 ],
 "metadata": {
  "kernelspec": {
   "display_name": "Python 2",
   "language": "python",
   "name": "python2"
  },
  "language_info": {
   "codemirror_mode": {
    "name": "ipython",
    "version": 2
   },
   "file_extension": ".py",
   "mimetype": "text/x-python",
   "name": "python",
   "nbconvert_exporter": "python",
   "pygments_lexer": "ipython2",
   "version": "2.7.13"
  }
 },
 "nbformat": 4,
 "nbformat_minor": 2
}
