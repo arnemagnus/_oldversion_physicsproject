{
 "cells": [
  {
   "cell_type": "code",
   "execution_count": 68,
   "metadata": {},
   "outputs": [
    {
     "name": "stdout",
     "output_type": "stream",
     "text": [
      "/home/arne/Documents/physicsproject/calculation_scripts\n"
     ]
    }
   ],
   "source": [
    "import numpy as np\n",
    "from numerical_integrators.adaptive_step import rkf45\n",
    "import os\n",
    "cwd = os.getcwd()\n",
    "print(cwd)"
   ]
  },
  {
   "cell_type": "code",
   "execution_count": 44,
   "metadata": {},
   "outputs": [],
   "source": [
    "def deriv(t, x):\n",
    "    return 2*x"
   ]
  },
  {
   "cell_type": "code",
   "execution_count": 45,
   "metadata": {
    "collapsed": true
   },
   "outputs": [],
   "source": [
    "x0 = np.array([1])\n",
    "t0 = np.array([0])\n",
    "\n",
    "def trajectory(t0, tmax, pos_init, deriv, integrator):\n",
    "    T = [t0]\n",
    "    X = [pos_init]\n",
    "    \n",
    "    h = np.array([1e-7])\n",
    "    \n",
    "    t = t0\n",
    "    t_ = t\n",
    "    x = pos_init\n",
    "    while t < tmax:\n",
    "        h = np.minimum(h, tmax - t)\n",
    "        t, x, h = integrator(t, x, h, deriv)\n",
    "        if t > t_:\n",
    "            T.append(t)\n",
    "            X.append(x)\n",
    "        t_ = t\n",
    "    return np.asarray(T), np.asarray(X)"
   ]
  },
  {
   "cell_type": "code",
   "execution_count": 69,
   "metadata": {},
   "outputs": [
    {
     "name": "stdout",
     "output_type": "stream",
     "text": [
      "   This function attempts a single time step forwards, using the\n",
      "    Runge-Kutta-Fehlberg 4(5) adaptive timestep integrator scheme. If\n",
      "    the new step is not accepted, the time level and the coordinates\n",
      "    are not updated, while the time increment is refined.\n",
      "\n",
      "    The Runge-Kutta-Fehlberg 4(5) method calculates two independent\n",
      "    approximations to a step forwards in time for an ODE system, of\n",
      "    fifth and fourth order, respectively. The scheme is tuned such\n",
      "    that the error of the fourth order solution is minimal.\n",
      "\n",
      "    The fifth order solution (interpolant) is used in order to find\n",
      "    a criterion for rejecting / accepting the trial step:\n",
      "        - If the difference between the two solutions is larger than\n",
      "          some threshold, the solution is rejected, and the time\n",
      "          increment refined\n",
      "        - If the difference between the solutions is smaller than or\n",
      "          equal to some threshold, the fourth order solution is\n",
      "          accepted, and the solver attempts to increase the time\n",
      "          increment\n",
      "\n",
      "    Input:\n",
      "        t:        Current time level, as a NumPy array\n",
      "        x:        Current coordinates, as a NumPy array\n",
      "        h:        Current time increment, as a NumPy array\n",
      "        f:        Function handle for the derivatives (the RHS of the ODE\n",
      "                      system), function signature: f = f(t, x)\n",
      "        atol:     Absolute tolerance level (OPTIONAL)\n",
      "        rtol:     Relative toleranve level (OPTIONAL)\n",
      "        **kwargs: Keyword arguments for the derivatives (optional)\n",
      "\n",
      "    Output:\n",
      "        _t:       NumPy array containing\n",
      "                      a) New time level (if the trial step is accepted)\n",
      "                      b) Current time level (unaltered, if the trial step is\n",
      "                          rejected)\n",
      "        _x:       NumPy array containing\n",
      "                      a) Runge-Kutta-Fehlberg 4(5) approximation of the\n",
      "                          coordinates at the new time level (if the trial step\n",
      "                          is accepted)\n",
      "                      b) Current coordinates (unaltered, if the trial step is\n",
      "                          rejected)\n",
      "        _h:       NumPy array containing the updated time increment.\n",
      "                      Generally increased or decreased,\n",
      "                      depending on whether the trial step is accepted or\n",
      "                      rejected\n",
      "    \n"
     ]
    }
   ],
   "source": [
    "tmax = 10\n",
    "\n",
    "integrator = rkf45\n",
    "\n",
    "print(integrator.__doc__)\n",
    "\n",
    "T, X = trajectory(t0, tmax, x0, deriv, integrator)"
   ]
  },
  {
   "cell_type": "code",
   "execution_count": 70,
   "metadata": {},
   "outputs": [
    {
     "data": {
      "text/plain": [
       "[<matplotlib.lines.Line2D at 0x7f78160592b0>]"
      ]
     },
     "execution_count": 70,
     "metadata": {},
     "output_type": "execute_result"
    },
    {
     "data": {
      "image/png": "[encoded data removed]",
      "text/plain": [
       "<matplotlib.figure.Figure at 0x7f78162267b8>"
      ]
     },
     "metadata": {},
     "output_type": "display_data"
    }
   ],
   "source": [
    "import matplotlib.pyplot as plt\n",
    "%matplotlib inline\n",
    "plt.figure()\n",
    "plt.plot(T, X, 'o')\n"
   ]
  },
  {
   "cell_type": "code",
   "execution_count": 71,
   "metadata": {},
   "outputs": [
    {
     "data": {
      "text/plain": [
       "array([  4.85166548e+08])"
      ]
     },
     "execution_count": 71,
     "metadata": {},
     "output_type": "execute_result"
    }
   ],
   "source": [
    "X[-1]"
   ]
  },
  {
   "cell_type": "code",
   "execution_count": 72,
   "metadata": {},
   "outputs": [
    {
     "data": {
      "text/plain": [
       "22026.465794806718"
      ]
     },
     "execution_count": 72,
     "metadata": {},
     "output_type": "execute_result"
    }
   ],
   "source": [
    "np.exp(10)"
   ]
  },
  {
   "cell_type": "code",
   "execution_count": 73,
   "metadata": {},
   "outputs": [
    {
     "data": {
      "text/plain": [
       "array([ 1352.94309568])"
      ]
     },
     "execution_count": 73,
     "metadata": {},
     "output_type": "execute_result"
    }
   ],
   "source": [
    "X[-1] - np.exp(20)"
   ]
  },
  {
   "cell_type": "code",
   "execution_count": 51,
   "metadata": {},
   "outputs": [
    {
     "data": {
      "text/plain": [
       "148.4131591025766"
      ]
     },
     "execution_count": 51,
     "metadata": {},
     "output_type": "execute_result"
    }
   ],
   "source": [
    "np.exp(5)"
   ]
  },
  {
   "cell_type": "code",
   "execution_count": 14,
   "metadata": {},
   "outputs": [
    {
     "ename": "NameError",
     "evalue": "name 'x' is not defined",
     "output_type": "error",
     "traceback": [
      "\u001b[0;31m---------------------------------------------------------------------------\u001b[0m",
      "\u001b[0;31mNameError\u001b[0m                                 Traceback (most recent call last)",
      "\u001b[0;32m<ipython-input-14-401b30e3b8b5>\u001b[0m in \u001b[0;36m<module>\u001b[0;34m()\u001b[0m\n\u001b[0;32m----> 1\u001b[0;31m \u001b[0mx\u001b[0m\u001b[0;34m\u001b[0m\u001b[0m\n\u001b[0m",
      "\u001b[0;31mNameError\u001b[0m: name 'x' is not defined"
     ]
    }
   ],
   "source": [
    "x"
   ]
  },
  {
   "cell_type": "code",
   "execution_count": 15,
   "metadata": {},
   "outputs": [
    {
     "data": {
      "text/plain": [
       "array([[  0.00000000e+00],\n",
       "       [  5.00000000e-03],\n",
       "       [  1.25000000e+01]])"
      ]
     },
     "execution_count": 15,
     "metadata": {},
     "output_type": "execute_result"
    }
   ],
   "source": [
    "X"
   ]
  },
  {
   "cell_type": "code",
   "execution_count": 16,
   "metadata": {},
   "outputs": [
    {
     "data": {
      "text/plain": [
       "array([[ 0. ],\n",
       "       [ 0.1],\n",
       "       [ 5. ]])"
      ]
     },
     "execution_count": 16,
     "metadata": {},
     "output_type": "execute_result"
    }
   ],
   "source": [
    "T"
   ]
  },
  {
   "cell_type": "code",
   "execution_count": null,
   "metadata": {
    "collapsed": true
   },
   "outputs": [],
   "source": []
  }
 ],
 "metadata": {
  "kernelspec": {
   "display_name": "Python 3",
   "language": "python",
   "name": "python3"
  },
  "language_info": {
   "codemirror_mode": {
    "name": "ipython",
    "version": 3
   },
   "file_extension": ".py",
   "mimetype": "text/x-python",
   "name": "python",
   "nbconvert_exporter": "python",
   "pygments_lexer": "ipython3",
   "version": "3.6.2"
  }
 },
 "nbformat": 4,
 "nbformat_minor": 2
}
